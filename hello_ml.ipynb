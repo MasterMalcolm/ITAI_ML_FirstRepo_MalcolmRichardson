{
  "nbformat": 4,
  "nbformat_minor": 0,
  "metadata": {
    "colab": {
      "provenance": []
    },
    "kernelspec": {
      "name": "python3",
      "display_name": "Python 3"
    },
    "language_info": {
      "name": "python"
    }
  },
  "cells": [
    {
      "cell_type": "code",
      "execution_count": 1,
      "metadata": {
        "colab": {
          "base_uri": "https://localhost:8080/"
        },
        "id": "jB0jshjmoOya",
        "outputId": "c7e4abf1-c46d-4887-e015-d1b554747841"
      },
      "outputs": [
        {
          "output_type": "stream",
          "name": "stdout",
          "text": [
            "Hello, Machine Learning!\n"
          ]
        }
      ],
      "source": [
        "print(\"Hello, Machine Learning!\")"
      ]
    }
  ]
}